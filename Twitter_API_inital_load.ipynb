{
 "cells": [
  {
   "cell_type": "code",
   "execution_count": 6,
   "id": "8f02c9ab",
   "metadata": {},
   "outputs": [],
   "source": [
    "from decouple import config\n",
    "import tweepy\n",
    "from datetime import datetime, timedelta\n",
    "import pandas as pd\n",
    "from sqlalchemy import create_engine"
   ]
  },
  {
   "cell_type": "code",
   "execution_count": 7,
   "id": "0f7c12f2",
   "metadata": {},
   "outputs": [],
   "source": [
    "# Get database credentials, db path and twitter bearer token from env-file\n",
    "dbuname = config('DBUNAME')\n",
    "dbpwd = config('DBPWD')\n",
    "host = config('HOST')\n",
    "port = config('PORT')\n",
    "dbname = config('DBNAME')\n",
    "bearer_token = config(\"BEARER_TOKEN\")"
   ]
  },
  {
   "cell_type": "code",
   "execution_count": 9,
   "id": "cb3abc79",
   "metadata": {},
   "outputs": [],
   "source": [
    "# Define API client function\n",
    "client = tweepy.Client(bearer_token=bearer_token)"
   ]
  },
  {
   "cell_type": "code",
   "execution_count": 13,
   "id": "336e06f5",
   "metadata": {},
   "outputs": [],
   "source": [
    "def fetch_load_tweetcount(label, ht1, ht2, start, end, method):\n",
    "    # Define query, time period and table_name\n",
    "    query = '(#bitcoin OR #btc) -is:retweet'\n",
    "    query = '('+ ht1 + ' OR ' + ht2 + ') -is:retweet'\n",
    "    print(query)\n",
    "    start = start\n",
    "    end = end\n",
    "    table_name = 'table_tw'+label\n",
    "    print(table_name)\n",
    "        \n",
    "    while True:    \n",
    "        #fetch data\n",
    "        try:\n",
    "            counts = client.get_recent_tweets_count(query=query,start_time = start, end_time = end , granularity='day')\n",
    "            tweets_df = pd.DataFrame()\n",
    "\n",
    "            for count in counts.data:\n",
    "                tweets_df = tweets_df.append(pd.DataFrame([{'date': count['end'], \n",
    "                                                'tweet_count': count['tweet_count']}]))\n",
    "\n",
    "            tweets_df['date'] = pd.to_datetime(tweets_df['date'])\n",
    "            tweets_df['label'] = label\n",
    "            tweets_df = tweets_df.reset_index(drop=True)                    \n",
    "        except Error as e:\n",
    "            print(e)\n",
    "            print(\"tweet count failed: \" + label)\n",
    "            break\n",
    "        \n",
    "                \n",
    "        #load data\n",
    "        if_ex_val = method\n",
    "        \n",
    "        try:\n",
    "            conn_string = 'postgresql://'+dbuname+':'+dbpwd+'@'+host1+':'+port+'/'+dbname\n",
    "            engine = create_engine(conn_string)\n",
    "            tweets_df.to_sql(table_name, conn_string, if_exists = if_ex_val, index=False) \n",
    "        except Exception as e:\n",
    "            print(e)\n",
    "            print(\"Data load failed: \" + table_name)   \n",
    "            break\n",
    "        break   "
   ]
  },
  {
   "cell_type": "code",
   "execution_count": 11,
   "id": "f78f94f2",
   "metadata": {},
   "outputs": [],
   "source": [
    "hashtags = {'bitcoin': ['#bitcoin','#btc'],'ethereum': ['#eth', '#ethereum'], 'binance': ['#binance','#bnb'],'ripple': ['#ripple','#xrp'],\n",
    "           'terra':['#terra','#luna'], 'cardano': ['#cardano','#ada'], 'solana': ['#sol','#solana'], 'avalanche': ['#avalanche','#avax'],\n",
    "           'polkadot':['#polkadot','#dot'],'dogecoin':['#dogecoin', '#doge'], 'msci_world': ['#msciworld', '#msci'],'euro_stoxx': ['#EXW1.DE','#eurostoxx'],\n",
    "            'smi':['#CSSMI.SW', '#smi'], 'nasdaq': ['#nasdaq', '#EXXT.DE'], 'gold':['#gold','#GC=F'], 'silver':['#silver','#SI=F']}"
   ]
  },
  {
   "cell_type": "code",
   "execution_count": null,
   "id": "d594e869",
   "metadata": {},
   "outputs": [
    {
     "name": "stdout",
     "output_type": "stream",
     "text": [
      "(#bitcoin OR #btc) -is:retweet\n",
      "table_bitcoin\n",
      "(#eth OR #ethereum) -is:retweet\n",
      "table_ethereum\n",
      "(#binance OR #bnb) -is:retweet\n",
      "table_binance\n",
      "(#ripple OR #xrp) -is:retweet\n",
      "table_ripple\n",
      "(#terra OR #luna) -is:retweet\n",
      "table_terra\n",
      "(#cardano OR #ada) -is:retweet\n",
      "table_cardano\n",
      "(#sol OR #solana) -is:retweet\n",
      "table_solana\n",
      "(#avalanche OR #avax) -is:retweet\n",
      "table_avalanche\n",
      "(#polkadot OR #dot) -is:retweet\n",
      "table_polkadot\n",
      "(#dogecoin OR #doge) -is:retweet\n",
      "table_dogecoin\n",
      "(#msciworld OR #msci) -is:retweet\n",
      "table_msci_world\n",
      "(#EXW1.DE OR #eurostoxx) -is:retweet\n",
      "table_euro_stoxx\n",
      "(#CSSMI.SW OR #smi) -is:retweet\n",
      "table_smi\n",
      "(#nasdaq OR #EXXT.DE) -is:retweet\n",
      "table_nasdaq\n",
      "(#gold OR #GC=F) -is:retweet\n",
      "table_gold\n"
     ]
    }
   ],
   "source": [
    "# Initial load of the historical data\n",
    "yesterday = datetime.strftime(datetime.today() - timedelta(1), \"%Y, %m, %d\")\n",
    "firstday = datetime.strftime(datetime.today() - timedelta(6), \"%Y, %m, %d\")\n",
    "\n",
    "# set timeframe\n",
    "end = datetime.strptime(yesterday, \"%Y, %m, %d\")\n",
    "start = datetime.strptime(firstday, \"%Y, %m, %d\")\n",
    "\n",
    "\n",
    "# set method of function df.to_sql()\n",
    "method = 'replace'\n",
    "\n",
    "# execute function\n",
    "for label in hashtags:\n",
    "    ht1 = hashtags[label][0]\n",
    "    ht2 = hashtags[label][1]\n",
    "    fetch_load_tweetcount(label, ht1, ht2, start, end, method)"
   ]
  }
 ],
 "metadata": {
  "kernelspec": {
   "display_name": "Python 3 (ipykernel)",
   "language": "python",
   "name": "python3"
  },
  "language_info": {
   "codemirror_mode": {
    "name": "ipython",
    "version": 3
   },
   "file_extension": ".py",
   "mimetype": "text/x-python",
   "name": "python",
   "nbconvert_exporter": "python",
   "pygments_lexer": "ipython3",
   "version": "3.9.7"
  }
 },
 "nbformat": 4,
 "nbformat_minor": 5
}
