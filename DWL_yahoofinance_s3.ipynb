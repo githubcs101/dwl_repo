{
 "cells": [
  {
   "cell_type": "code",
   "execution_count": 1,
   "id": "de135096",
   "metadata": {},
   "outputs": [],
   "source": [
    "from yfapi import YahooFinanceAPI, Interval\n",
    "from datetime import datetime, timedelta\n",
    "import psycopg2\n",
    "from sqlalchemy import create_engine\n",
    "from decouple import config\n",
    "import pandas as pd\n",
    "import logging\n",
    "import boto3\n",
    "from botocore.exceptions import ClientError\n",
    "import os"
   ]
  },
  {
   "cell_type": "code",
   "execution_count": 2,
   "id": "f05daeef",
   "metadata": {},
   "outputs": [],
   "source": [
    "# instantiate the API and set the interval to weekly data\n",
    "dh = YahooFinanceAPI(Interval.DAILY)\n",
    "\n",
    "# get datime of yesterday at 00:00:00\n",
    "yesterday = datetime.strftime(datetime.today() - timedelta(1), \"%Y, %m, %d\")\n",
    "now = datetime.strptime(yesterday, \"%Y, %m, %d\")\n",
    "then = datetime(2022, 3, 12)"
   ]
  },
  {
   "cell_type": "code",
   "execution_count": 3,
   "id": "d83b36ab",
   "metadata": {},
   "outputs": [
    {
     "name": "stdout",
     "output_type": "stream",
     "text": [
      "Christoph\n",
      "dbyahoo1\n",
      "dbyf1.c8vnebtzzltk.us-east-1.rds.amazonaws.com\n"
     ]
    }
   ],
   "source": [
    "#dbuname = 'Christoph'\n",
    "#dbpwd = 'dbyahoo1'\n",
    "#host = 'dbyf1.c8vnebtzzltk.us-east-1.rds.amazonaws.com'\n",
    "dbuname = config('DBUNAME')\n",
    "dbpwd = config('DBPWD')\n",
    "host = config('HOST')\n",
    "port = '5432'\n",
    "dbname = 'dbyf1'\n",
    "print(dbuname)\n",
    "print(dbpwd)\n",
    "print(host)"
   ]
  },
  {
   "cell_type": "code",
   "execution_count": 4,
   "id": "177e7cb1",
   "metadata": {},
   "outputs": [],
   "source": [
    "s3_client =boto3.client('s3')\n",
    "s3_bucket_name='s3dwlcs'\n",
    "s3 = boto3.resource('s3', aws_access_key_id=config('AWSAKID'),\n",
    "                    aws_secret_access_key=config('AWSSAK'),\n",
    "                    aws_session_token=config('AWSST'))"
   ]
  },
  {
   "cell_type": "code",
   "execution_count": 10,
   "id": "30fc19c4",
   "metadata": {},
   "outputs": [
    {
     "name": "stdout",
     "output_type": "stream",
     "text": [
      "s3.ObjectSummary(bucket_name='s3dwlcs', key='yf_euro_stoxx.csv')\n",
      "s3.ObjectSummary(bucket_name='s3dwlcs', key='yf_gold.csv')\n",
      "s3.ObjectSummary(bucket_name='s3dwlcs', key='yf_msci_world.csv')\n",
      "s3.ObjectSummary(bucket_name='s3dwlcs', key='yf_msci_world_test.csv')\n",
      "s3.ObjectSummary(bucket_name='s3dwlcs', key='yf_silver.csv')\n"
     ]
    }
   ],
   "source": [
    "my_bucket=s3.Bucket(s3_bucket_name)\n",
    "\n",
    "for my_bucket_object in my_bucket.objects.all():\n",
    "    print(my_bucket_object)"
   ]
  },
  {
   "cell_type": "code",
   "execution_count": 6,
   "id": "b3a25236",
   "metadata": {},
   "outputs": [],
   "source": [
    "def upload_file(file_name, bucket, object_name=None):\n",
    "    \"\"\"Upload a file to an S3 bucket\n",
    "\n",
    "    :param file_name: File to upload\n",
    "    :param bucket: Bucket to upload to\n",
    "    :param object_name: S3 object name. If not specified then file_name is used\n",
    "    :return: True if file was uploaded, else False\n",
    "    \"\"\"\n",
    "\n",
    "    # If S3 object_name was not specified, use file_name\n",
    "    if object_name is None:\n",
    "        object_name = os.path.basename(file_name)\n",
    "\n",
    "    # Upload the file\n",
    "    s3_client = boto3.client('s3')\n",
    "    try:\n",
    "        #response = s3_client.upload_file(file_name, bucket, object_name)\n",
    "        s3.Bucket(bucket).upload_file(file_name, file_name)\n",
    "    except ClientError as e:\n",
    "        logging.error(e)\n",
    "        return False\n",
    "    return True"
   ]
  },
  {
   "cell_type": "code",
   "execution_count": 8,
   "id": "a96b7e52",
   "metadata": {},
   "outputs": [],
   "source": [
    "labels={'GC=F':'gold','SI=F':'silver','URTH':'msci_world', 'EXW1.DE':'euro_stoxx', 'CSSMI.SW':'smi', 'EXXT.DE':'nasdaq' }"
   ]
  },
  {
   "cell_type": "code",
   "execution_count": 7,
   "id": "f66a2782",
   "metadata": {},
   "outputs": [],
   "source": [
    "def fetch_load_data(instrument, start, end):\n",
    "    \n",
    "    while True:    \n",
    "        #fetch data\n",
    "        try:\n",
    "            df = dh.get_ticker_data(instrument, start, end)\n",
    "            file_name = 'yf_'+labels[instrument]+'.csv'\n",
    "            print(file_name)\n",
    "            df['Ins'] = instrument\n",
    "            df['Ins_label'] = labels[instrument]\n",
    "            df.to_csv(file_name)\n",
    "        except:\n",
    "            print(\"Investment Instrument not available: \" + instrument)\n",
    "            break\n",
    "                            \n",
    "        #load data\n",
    "        try:\n",
    "            bucket_name = 's3dwlcs'\n",
    "            upload_file(file_name, bucket_name)\n",
    "        except:\n",
    "            print(\"Data load failed: \" + file_name)   \n",
    "            break\n",
    "        break             \n",
    "            "
   ]
  },
  {
   "cell_type": "code",
   "execution_count": 9,
   "id": "9dfdfc98",
   "metadata": {},
   "outputs": [
    {
     "name": "stdout",
     "output_type": "stream",
     "text": [
      "yf_euro_stoxx.csv\n"
     ]
    }
   ],
   "source": [
    "#inv_instruments = ['URTH', 'EXW1.DE', 'CSSMI.SW', 'EXXT.DE', 'GC=F', 'SI=F']\n",
    "inv_instruments = ['EXW1.DE']\n",
    "\n",
    "for ins in inv_instruments:\n",
    "    fetch_load_data(ins, then, now)\n"
   ]
  },
  {
   "cell_type": "code",
   "execution_count": null,
   "id": "5bafc3fe",
   "metadata": {},
   "outputs": [],
   "source": []
  }
 ],
 "metadata": {
  "kernelspec": {
   "display_name": "Python 3 (ipykernel)",
   "language": "python",
   "name": "python3"
  },
  "language_info": {
   "codemirror_mode": {
    "name": "ipython",
    "version": 3
   },
   "file_extension": ".py",
   "mimetype": "text/x-python",
   "name": "python",
   "nbconvert_exporter": "python",
   "pygments_lexer": "ipython3",
   "version": "3.9.7"
  }
 },
 "nbformat": 4,
 "nbformat_minor": 5
}
